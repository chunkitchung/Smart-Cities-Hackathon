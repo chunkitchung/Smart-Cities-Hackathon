{
  "nbformat": 4,
  "nbformat_minor": 0,
  "metadata": {
    "colab": {
      "provenance": [],
      "private_outputs": true,
      "gpuType": "T4",
      "authorship_tag": "ABX9TyOxZAw0AWDprXiinYh9smLI",
      "include_colab_link": true
    },
    "kernelspec": {
      "name": "python3",
      "display_name": "Python 3"
    },
    "language_info": {
      "name": "python"
    },
    "accelerator": "GPU",
    "gpuClass": "standard"
  },
  "cells": [
    {
      "cell_type": "markdown",
      "metadata": {
        "id": "view-in-github",
        "colab_type": "text"
      },
      "source": [
        "<a href=\"https://colab.research.google.com/github/chunkitchung/Smart-Cities-Hackathon/blob/dev/Fruit_Classification.ipynb\" target=\"_parent\"><img src=\"https://colab.research.google.com/assets/colab-badge.svg\" alt=\"Open In Colab\"/></a>"
      ]
    },
    {
      "cell_type": "code",
      "execution_count": null,
      "metadata": {
        "id": "8lCi3O2Otp9D"
      },
      "outputs": [],
      "source": [
        "!wget https://bitbucket.org/ishaanjav/code-and-deploy-custom-tensorflow-lite-model/raw/a4febbfee178324b2083e322cdead7465d6fdf95/fruits.zip"
      ]
    },
    {
      "cell_type": "code",
      "source": [
        "!unzip fruits.zip"
      ],
      "metadata": {
        "id": "6b2PIn7Ld4BL"
      },
      "execution_count": null,
      "outputs": []
    },
    {
      "cell_type": "code",
      "source": [
        "import tensorflow as tf\n",
        "import matplotlib.pyplot as pit"
      ],
      "metadata": {
        "id": "xmswKlhZlXG4"
      },
      "execution_count": null,
      "outputs": []
    },
    {
      "cell_type": "code",
      "source": [
        "img_height, img_width = 32, 32\n",
        "batch_size = 20\n",
        "\n",
        "train_ds = tf.keras.utils.image_dataset_from_directory(\n",
        "    \"fruits/train\",\n",
        "    image_size = (img_height, img_width),\n",
        "    batch_size = batch_size\n",
        ")\n",
        "\n",
        "val_ds = tf.keras.utils.image_dataset_from_directory(\n",
        "    \"fruits/validation\",\n",
        "    image_size = (img_height, img_width),\n",
        "    batch_size = batch_size\n",
        ")\n",
        "tes_ds = tf.keras.utils.image_dataset_from_directory(\n",
        "    \"fruits/test\",\n",
        "    image_size = (img_height, img_width),\n",
        "    batch_size = batch_size\n",
        ")"
      ],
      "metadata": {
        "id": "KH33mtgQlfac"
      },
      "execution_count": null,
      "outputs": []
    },
    {
      "cell_type": "code",
      "source": [
        "import matplotlib.pyplot as plt"
      ],
      "metadata": {
        "id": "SU6sSTDK8IoV"
      },
      "execution_count": null,
      "outputs": []
    },
    {
      "cell_type": "code",
      "source": [
        "class_names = [\"apple\", \"banana\",\"orange\"]\n",
        "plt.figure(figsize=(10,10))\n",
        "for images, labels in train_ds.take(1):\n",
        "  for i in range(9):\n",
        "    ax = plt.subplot(3,3, i + 1)\n",
        "    plt.imshow(images[i].numpy().astype(\"uint8\"))\n",
        "    plt.title(class_names[labels[i]])\n",
        "    plt.axis(\"off\")"
      ],
      "metadata": {
        "id": "r5TZQ0tL8ZuK"
      },
      "execution_count": null,
      "outputs": []
    },
    {
      "cell_type": "code",
      "source": [
        "model = tf.keras.Sequential(\n",
        "    [\n",
        "        #changes each pixel value from being 0 to 255 to just 0 to 1\n",
        "        #simplifies the learning\n",
        "        tf.keras.layers.Rescaling(1./255),\n",
        "        #First convolutional layer\n",
        "        #apply filters to images to learn cetain features\n",
        "        #learn fautures as well\n",
        "        tf.keras.layers.Conv2D(32, 3, activation=\"relu\"),\n",
        "        #Counting down out feature map by 4 times, Pooling layer\n",
        "        tf.keras.layers.MaxPooling2D(),\n",
        "         #applu filters to images to learn cetain features\n",
        "        tf.keras.layers.Conv2D(32, 3, activation=\"relu\"),\n",
        "        #Counting down out feature map by 4 times, Pooling layer\n",
        "        tf.keras.layers.MaxPooling2D(),\n",
        "         #applu filters to images to learn cetain features\n",
        "        tf.keras.layers.Conv2D(32, 3, activation=\"relu\"),\n",
        "        #Counting down out feature map by 4 times, Pooling layer\n",
        "        tf.keras.layers.MaxPooling2D(),\n",
        "        #Flattens out\n",
        "        tf.keras.layers.Flatten(),\n",
        "        #128 neurons\n",
        "        tf.keras.layers.Dense(128, activation=\"relu\"),\n",
        "        #3 neurons one for each class\n",
        "        tf.keras.layers.Dense(3)\n",
        "    ]\n",
        ")"
      ],
      "metadata": {
        "id": "Q7ONPKoN9UqX"
      },
      "execution_count": null,
      "outputs": []
    },
    {
      "cell_type": "code",
      "source": [
        "model.compile(\n",
        "    optimizer=\"adam\",\n",
        "    #we are trying to minimize this loss function\n",
        "    loss=tf.losses.SparseCategoricalCrossentropy(from_logits=True),\n",
        "    #receive acuracy\n",
        "    metrics=['accuracy']\n",
        ")"
      ],
      "metadata": {
        "id": "2r78c8aq_MWb"
      },
      "execution_count": null,
      "outputs": []
    },
    {
      "cell_type": "code",
      "source": [
        "#Train our model\n",
        "model.fit(\n",
        "    train_ds,\n",
        "    #it is evaluated on this data\n",
        "    validation_data = val_ds,\n",
        "    #goes over the whole training dataset 3 times\n",
        "    epochs = 10\n",
        ")"
      ],
      "metadata": {
        "id": "wjc-04Sl_nvI"
      },
      "execution_count": null,
      "outputs": []
    },
    {
      "cell_type": "code",
      "source": [
        "model.evaluate(tes_ds)"
      ],
      "metadata": {
        "id": "piZy9we0A6tT"
      },
      "execution_count": null,
      "outputs": []
    },
    {
      "cell_type": "code",
      "source": [
        "import numpy\n",
        "plt.figure(figsize=(10,10))\n",
        "for images, labels in tes_ds.take(1):\n",
        "  #pass a list of 20 images to our model and get classification\n",
        "  classification = model(images)\n",
        "  #gives us a likelihood of being from each classification\n",
        "  print(classification)"
      ],
      "metadata": {
        "id": "Rc4lcpmkBEoU"
      },
      "execution_count": null,
      "outputs": []
    },
    {
      "cell_type": "code",
      "source": [
        "import numpy\n",
        "\n",
        "plt.figure(figsize=(10,10))\n",
        "for images, labels in tes_ds.take(1):\n",
        "  classifications = model(images)\n",
        "  # print(classifications)\n",
        "  \n",
        "  for i in range(9):\n",
        "    ax = plt.subplot(3, 3, i + 1)\n",
        "    plt.imshow(images[i].numpy().astype(\"uint8\"))\n",
        "    index = numpy.argmax(classifications[i])\n",
        "    plt.title(\"Pred: \" + class_names[index] + \" | Real: \" + class_names[labels[i]])"
      ],
      "metadata": {
        "id": "yslXZGTjBnQ1"
      },
      "execution_count": null,
      "outputs": []
    }
  ]
}